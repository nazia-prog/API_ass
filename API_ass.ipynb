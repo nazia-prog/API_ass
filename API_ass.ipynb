{
  "nbformat": 4,
  "nbformat_minor": 0,
  "metadata": {
    "colab": {
      "provenance": []
    },
    "kernelspec": {
      "name": "python3",
      "display_name": "Python 3"
    },
    "language_info": {
      "name": "python"
    }
  },
  "cells": [
    {
      "cell_type": "markdown",
      "source": [
        " 1. What is a RESTful API?\n",
        "\n",
        "A RESTful API follows the principles of Representational State Transfer (REST). It uses standard HTTP methods (GET, POST, PUT, DELETE) to interact with resources, typically represented in JSON or XML. RESTful APIs are stateless, scalable, and easy to cache and test.\n",
        "\n",
        " 2 . What is an API Specification?\n",
        "\n",
        "An API specification is a formal document that defines how an API behaves. It includes:\n",
        "- Available endpoints and their paths\n",
        "- Supported HTTP methods\n",
        "- Request and response formats\n",
        "- Authentication requirements\n",
        "- Status codes and error messages\n",
        "Tools like OpenAPI (Swagger) help generate documentation, mock servers, and client SDKs from these specs — making collaboration and testing smoother.\n",
        "\n",
        "🧪 3. What is Flask, and why is it popular?\n",
        "\n",
        "Flask is a lightweight Python web framework. It’s popular because:\n",
        "- It’s minimal and flexible\n",
        "- Easy to learn and extend\n",
        "- Great for building RESTful APIs\n",
        "- Has a rich ecosystem (Flask-SQLAlchemy, Flask-RESTful, Flask-JWT, etc.)\n",
        "\n",
        "🛣️ 4. What is Routing in Flask?\n",
        "Routing maps URLs to Python functions. For example:\n",
        "@app.route('/hello')\n",
        "def hello():\n",
        "    return \"Hello, World!\"\n",
        "\n",
        "\n",
        "This binds the /hello URL to the hello() function.\n",
        "\n",
        " 5. How to Create a Simple Flask Application?\n",
        "\n",
        "from flask import Flask\n",
        "app = Flask(__name__)\n",
        "\n",
        "@app.route('/')\n",
        "def home():\n",
        "    return \"Welcome to Flask!\"\n",
        "\n",
        "if __name__ == '__main__':\n",
        "    app.run(debug=True)\n",
        "\n",
        "\n",
        "\n",
        " 6. What are HTTP methods used in RESTful APIs?\n",
        "\n",
        "- GET: Retrieve data\n",
        "- POST: Create new data\n",
        "- PUT: Replace existing data\n",
        "- PATCH: Partially update data\n",
        "- DELETE: Remove data\n",
        "\n",
        " 7. What is the purpose of the @app.route() decorator in Flask?\n",
        "\n",
        "It’s a decorator that binds a URL to a view function. It tells Flask: “When this URL is requested, run this function.”\n",
        "\n",
        " 8.What is the difference between GET and POST HTTP methods?\n",
        "\n",
        "| Feature | GET | POST |\n",
        "| Purpose | Retrieve data | Submit data |\n",
        "| Data sent via | URL query string | Request body |\n",
        "| Idempotent | Yes | No |\n",
        "| Use case | Fetch user info | Submit form data |\n",
        "\n",
        "\n",
        "\n",
        " 9. How do you handle errors in Flask APIs?\n",
        "\n",
        "Use @app.errorhandler():\n",
        "@app.errorhandler(404)\n",
        "def not_found(e):\n",
        "    return jsonify(error=\"Not found\"), 404\n",
        "\n",
        "\n",
        "You can also use abort() to trigger errors manually.\n",
        "\n",
        "10. How do you connect Flask to a SQL database?\n",
        "\n",
        "Use Flask-SQLAlchemy:\n",
        "app.config['SQLALCHEMY_DATABASE_URI'] = 'sqlite:///data.db'\n",
        "db = SQLAlchemy(app)\n",
        "\n",
        " 11. What is the role of Flask-SQLAlchemy?\n",
        "\n",
        "Flask-SQLAlchemy plays the role of a bridge between Flask and SQLAlchemy, making it easier to work with databases in your Flask applications. It wraps SQLAlchemy’s powerful ORM (Object Relational Mapper) and integrates it seamlessly into Flask’s ecosystem.\n",
        "\n",
        "🧠 What Flask-SQLAlchemy Actually Does\n",
        "- Simplifies setup: Automatically configures SQLAlchemy with your Flask app using app.config.\n",
        "- Provides ORM capabilities: Lets you define models as Python classes and interact with the database using Python objects.\n",
        "- Manages sessions: Handles database sessions and connections efficiently.\n",
        "- Adds Flask-friendly features: Includes helpers like db.Model, db.Column, and db.session for cleaner code.\n",
        "- Supports multiple databases: Works with SQLite, PostgreSQL, MySQL, and others.\n",
        "\n",
        "\n",
        " 12. What are Flask blueprints, and how are they useful?\n",
        "\n",
        "Blueprints help organize large apps into modules:\n",
        "from flask import Blueprint\n",
        "auth_bp = Blueprint('auth', __name__)\n",
        "\n",
        "@auth_bp.route('/login')\n",
        "def login():\n",
        "    return \"Login Page\"\n",
        "\n",
        " 13. What is the purpose of Flask's request object?\n",
        "\n",
        "The request object in Flask is your gateway to everything the client sends to the server during an HTTP request. It’s like a snapshot of the incoming request, packed with useful data that helps you build dynamic, responsive web applications.\n",
        "\n",
        " What the request Object Does\n",
        "Here’s what it gives you access to:\n",
        "- HTTP method: Know whether the request is GET, POST, PUT, etc. via request.method.\n",
        "- Form data: Retrieve submitted form fields using request.form.\n",
        "- Query parameters: Access URL parameters like ?search=flask using request.args.\n",
        "- JSON payloads: Parse JSON data from the body with request.get_json() or request.json.\n",
        "- Headers: Inspect request headers like User-Agent or Authorization via request.headers.\n",
        "- Cookies: Read cookies sent by the client using request.cookies.\n",
        "- Uploaded files: Handle file uploads with request.files.\n",
        "- Client IP: Get the user's IP address using request.remote_addr\n",
        "\n",
        "\n",
        " 14. How do you create a RESTful API endpoint using Flask?\n",
        "\n",
        "from flask import Flask, request, jsonify\n",
        "\n",
        "app = Flask(__name__)\n",
        "\n",
        "# Sample data\n",
        "users = [\n",
        "    {\"id\": 1, \"name\": \"Alice\"},\n",
        "    {\"id\": 2, \"name\": \"Bob\"}\n",
        "]\n",
        "\n",
        "# GET endpoint to retrieve all users\n",
        "@app.route('/api/users', methods=['GET'])\n",
        "def get_users():\n",
        "    return jsonify(users)\n",
        "\n",
        "# POST endpoint to add a new user\n",
        "@app.route('/api/users', methods=['POST'])\n",
        "def add_user():\n",
        "    new_user = request.get_json()\n",
        "    users.append(new_user)\n",
        "    return jsonify(new_user), 201\n",
        "\n",
        "# GET endpoint to retrieve a user by ID\n",
        "@app.route('/api/users/<int:user_id>', methods=['GET'])\n",
        "def get_user(user_id):\n",
        "    user = next((u for u in users if u[\"id\"] == user_id), None)\n",
        "    if user:\n",
        "        return jsonify(user)\n",
        "    return jsonify({\"error\": \"User not found\"}), 404\n",
        "\n",
        "if __name__ == '__main__':\n",
        "    app.run(debug=True)\n",
        "\n",
        "\n",
        "15.what is the Purpose of jsonify()function?\n",
        "\n",
        "The jsonify() function in Flask is your go-to tool for crafting clean, well-structured JSON responses—especially when building RESTful APIs or AJAX-powered web apps.\n",
        "\n",
        " What jsonify() Actually Does\n",
        "- Converts Python objects (like dictionaries, lists, etc.) into JSON format.\n",
        "- Creates a proper HTTP response with:\n",
        "- Content-Type: application/json header\n",
        "- Correct status code (default is 200 OK)\n",
        "- Handles encoding and edge cases automatically, so you don’t have to manually use json.dumps() and set headers.\n",
        "\n",
        "16.  Explain Flask’s url_for() function?\n",
        "\n",
        "Generates URLs dynamically:\n",
        "url_for('login')  # returns '/login'\n",
        "\n",
        "\n",
        "Useful for redirects and templates.\n",
        "\n",
        "17.How does Flask handle static files (CSS, JavaScript, etc.)?\n",
        "\n",
        "Flask handles static files—like CSS, JavaScript, images, and fonts—through a built-in mechanism that makes it super easy to serve them from a designated folder. Here's how it works:\n",
        "\n",
        "📁 Default Setup\n",
        "- Flask automatically looks for a folder named static/ in your project root.\n",
        "- Any file placed inside this folder can be accessed via the URL path /static/<filename>.\n",
        "Example structure:\n",
        "your_project/\n",
        "│\n",
        "├── app.py\n",
        "├── static/\n",
        "│   ├── style.css\n",
        "│   └── script.js\n",
        "└── templates/\n",
        "    └── index.html\n",
        "\n",
        "\n",
        "\n",
        "🔗 Linking Static Files in HTML\n",
        "Use the url_for() function to generate the correct path:\n",
        "<!-- templates/index.html -->\n",
        "<html>\n",
        "  <head>\n",
        "    <link rel=\"stylesheet\" href=\"{{ url_for('static', filename='style.css') }}\">\n",
        "    <script src=\"{{ url_for('static', filename='script.js') }}\"></script>\n",
        "  </head>\n",
        "  <body>\n",
        "    <h1>Hello, nazia!</h1>\n",
        "  </body>\n",
        "</html>\n",
        "\n",
        "\n",
        "This ensures Flask correctly maps the file even if the static folder is customized.\n",
        "\n",
        "⚙️ Customizing the Static Folder\n",
        "You can change the default folder by passing arguments when initializing the app:\n",
        "app = Flask(__name__, static_folder='assets', static_url_path='/static')\n",
        "\n",
        "\n",
        "This tells Flask to serve static files from the assets/ directory but still use /static/ in URLs.\n",
        "\n",
        "18.What is an API specification, and how does it help in building a Flask API?\n",
        "\n",
        "  an API Specification Includes\n",
        "- Endpoints: URLs like /users, /products/<id>, etc.\n",
        "- HTTP Methods: GET, POST, PUT, DELETE, etc.\n",
        "- Request Parameters: Query strings, path variables, headers, and body formats.\n",
        "- Response Formats: JSON structure, status codes, and example responses.\n",
        "- Authentication: How clients should authenticate (e.g., API keys, tokens).\n",
        "- Error Handling: Standardized error messages and codes.\n",
        "\n",
        "🚀 How It Helps When Building a Flask API\n",
        "| Benefit | Description |\n",
        "| Clarity & Consistency | Ensures all developers follow the same rules and structure. |\n",
        "| Documentation | Makes it easier to generate docs using tools like Swagger or Flasgger. |\n",
        "| Validation | Helps validate incoming requests and outgoing responses. |\n",
        "| Automation | Enables auto-generation of client SDKs and testing scripts. |\n",
        "| Collaboration | Frontend and backend teams can work in parallel using the spec as a guide. |\n",
        "\n",
        " 19. What are HTTP status codes, and why are they important in a Flask API?\n",
        "\n",
        " HTTP status codes are standardized messages that a server sends back to the client to indicate the result of an HTTP request. In a Flask API, they’re crucial for communicating whether a request was successful, failed, or needs further action.\n",
        "They’re 3-digit numbers grouped into categories:\n",
        "| Category | Range | Meaning |\n",
        "| 1xx | 100–199 | Informational responses |\n",
        "| 2xx | 200–299 | Success |\n",
        "| 3xx | 300–399 | Redirection |\n",
        "| 4xx | 400–499 | Client errors (e.g., bad request) |\n",
        "| 5xx | 500–599 | Server errors |\n",
        "\n",
        " They Matter in Flask APIs\n",
        "- Clear Communication: They tell the client what happened—success, failure, or something else.\n",
        "- Error Handling: You can use codes like 404 for \"Not Found\" or 400 for \"Bad Request\" to guide users and developers.\n",
        "- Automation-Friendly: Clients (like frontend apps or other services) can programmatically respond based on the status code.\n",
        "- Security & Validation: Codes like 401 Unauthorized or 403 Forbidden help enforce access control.\n",
        "- Debugging: They make it easier to diagnose issues during development or in production.\n",
        "\n",
        "🧪 Flask Example\n",
        "from flask import Flask, jsonify, request\n",
        "\n",
        "app = Flask(__name__)\n",
        "\n",
        "@app.route('/api/data', methods=['POST'])\n",
        "def create_data():\n",
        "    data = request.get_json()\n",
        "    if not data:\n",
        "        return jsonify({\"error\": \"Missing data\"}), 400  # Bad Request\n",
        "    return jsonify({\"message\": \"Data created\"}), 201     # Created\n",
        "\n",
        "\n",
        "\n",
        "\n",
        "\n",
        "20.How do you handle POST requests in Flask?\n",
        "\n",
        " Handling POST requests in Flask is all about receiving data from the client—like form submissions or JSON payloads—and processing it on the server. Here's how you can do it step by step:\n",
        "\n",
        "🧪 Basic Example: Handling JSON Data\n",
        "from flask import Flask, request, jsonify\n",
        "\n",
        "app = Flask(__name__)\n",
        "\n",
        "@app.route('/submit', methods=['POST'])\n",
        "def submit_data():\n",
        "    data = request.get_json()  # Extract JSON payload\n",
        "    if not data:\n",
        "        return jsonify({\"error\": \"No data provided\"}), 400\n",
        "    return jsonify({\"message\": \"Data received\", \"data\": data}), 201\n",
        "\n",
        "if __name__ == '__main__':\n",
        "    app.run(debug=True)\n",
        "\n",
        "\n",
        "This endpoint accepts a POST request with a JSON body and returns a confirmation.\n",
        "\n",
        "📝 Handling Form Data\n",
        "If you're submitting data via an HTML form:\n",
        "@app.route('/login', methods=['POST'])\n",
        "def login():\n",
        "    username = request.form.get('username')\n",
        "    password = request.form.get('password')\n",
        "    if username == 'admin' and password == 'secret':\n",
        "        return \"Welcome, admin!\"\n",
        "    return \"Invalid credentials\", 401\n",
        "\n",
        "\n",
        "Use request.form to access form fields submitted via application/x-www-form-urlencoded.\n",
        "\n",
        "🔐 Best Practices\n",
        "- Validate input before processing.\n",
        "- Return appropriate status codes (201 Created, 400 Bad Request, etc.).\n",
        "- Use jsonify() for consistent JSON responses.\n",
        "- Secure sensitive data—never log passwords or personal info.\n",
        "\n",
        "21.How would you secure a Flask API?\n",
        "\n",
        "securing a Flask API involves multiple layers of protection to ensure data integrity, user privacy, and safe access:\n",
        "- Use HTTPS: Encrypt all traffic between client and server to prevent man-in-the-middle attacks.\n",
        "- Authentication & Authorization:\n",
        "- Implement token-based authentication (e.g., JWT) to verify users.\n",
        "- Use OAuth2 for third-party login and delegated access.\n",
        "- Rate Limiting: Prevent abuse by limiting requests per IP (e.g., using Flask-Limiter).\n",
        "- Input Validation: Sanitize and validate all incoming data to avoid injection attacks.\n",
        "- CORS Configuration: Restrict cross-origin requests to trusted domains.\n",
        "- Error Handling: Return meaningful error messages without exposing internal logic.\n",
        "- Session Management: Use secure cookies and server-side session storage if needed.\n",
        "- Use Flask-Security or Flask-JWT-Extended for built-in security features.\n",
        "Want to see a JWT-based login flow or how to integrate OAuth with Auth0? I can walk you through it.\n",
        "\n",
        "\n",
        "\n",
        "\n",
        "22. What is the significance of the Flask-RESTful extension?\n",
        "\n",
        "Flask-RESTful is a powerful extension that simplifies building REST APIs in Flask by introducing a structured, class-based approach.\n",
        "✨ Key Benefits:\n",
        "- Resource-Oriented Design: Define endpoints as Python classes (Resource) with methods like get(), post(), etc.\n",
        "- Cleaner Code: Reduces boilerplate and improves readability.\n",
        "- Request Parsing: Built-in support for validating and extracting request arguments.\n",
        "- Response Formatting: Automatically formats responses as JSON.\n",
        "- Error Handling: Standardized error responses and decorators for custom logic.\n",
        "🧪 Example:\n",
        "from flask import Flask\n",
        "from flask_restful import Api, Resource\n",
        "\n",
        "app = Flask(__name__)\n",
        "api = Api(app)\n",
        "\n",
        "class Hello(Resource):\n",
        "    def get(self):\n",
        "        return {\"message\": \"Hello, Flask-RESTful!\"}\n",
        "\n",
        "api.add_resource(Hello, '/hello')\n",
        "\n",
        "\n",
        "\n",
        "\n",
        "\n",
        "23.What is the role of Flask’s session object?\n",
        "\n",
        "The session object in Flask is used to store data across requests for a specific user. It’s like a temporary memory that persists between page loads.\n",
        "🔍 What It Does:\n",
        "- Stores data like login status, user preferences, or cart items.\n",
        "- Uses secure cookies to store session IDs.\n",
        "- Can be configured for server-side storage using Flask-Session.\n",
        "🧪 Example:\n",
        "from flask import Flask, session\n",
        "\n",
        "app = Flask(__name__)\n",
        "app.secret_key = 'your_secret_key'\n",
        "\n",
        "@app.route('/login')\n",
        "def login():\n",
        "    session['user'] = 'Arbaaz'\n",
        "    return 'Logged in!'\n",
        "\n",
        "@app.route('/profile')\n",
        "def profile():\n",
        "    return f\"Welcome, {session.get('user', 'Guest')}!\"\n",
        "\n",
        "\n",
        "\n",
        "\n",
        "\n",
        "\n"
      ],
      "metadata": {
        "id": "6rSeIbY8Piwt"
      }
    },
    {
      "cell_type": "code",
      "source": [
        "#1.How do you create a basic Flask application?"
      ],
      "metadata": {
        "id": "bUtzt7toePqV"
      },
      "execution_count": 16,
      "outputs": []
    },
    {
      "cell_type": "code",
      "metadata": {
        "colab": {
          "base_uri": "https://localhost:8080/"
        },
        "id": "0134f923",
        "outputId": "3bd45a27-5575-446c-b893-f4b81498c968"
      },
      "source": [
        "# Install Flask\n",
        "!pip install Flask"
      ],
      "execution_count": 13,
      "outputs": [
        {
          "output_type": "stream",
          "name": "stdout",
          "text": [
            "Requirement already satisfied: Flask in /usr/local/lib/python3.11/dist-packages (3.1.1)\n",
            "Requirement already satisfied: blinker>=1.9.0 in /usr/local/lib/python3.11/dist-packages (from Flask) (1.9.0)\n",
            "Requirement already satisfied: click>=8.1.3 in /usr/local/lib/python3.11/dist-packages (from Flask) (8.2.1)\n",
            "Requirement already satisfied: itsdangerous>=2.2.0 in /usr/local/lib/python3.11/dist-packages (from Flask) (2.2.0)\n",
            "Requirement already satisfied: jinja2>=3.1.2 in /usr/local/lib/python3.11/dist-packages (from Flask) (3.1.6)\n",
            "Requirement already satisfied: markupsafe>=2.1.1 in /usr/local/lib/python3.11/dist-packages (from Flask) (3.0.2)\n",
            "Requirement already satisfied: werkzeug>=3.1.0 in /usr/local/lib/python3.11/dist-packages (from Flask) (3.1.3)\n"
          ]
        }
      ]
    },
    {
      "cell_type": "code",
      "metadata": {
        "colab": {
          "base_uri": "https://localhost:8080/"
        },
        "id": "365a2d06",
        "outputId": "52da1aae-c070-411f-9c88-46b4e5a765df"
      },
      "source": [
        "# Create a basic Flask app file\n",
        "%%writefile app.py\n",
        "from flask import Flask\n",
        "\n",
        "app = Flask(__name__)\n",
        "\n",
        "@app.route('/')\n",
        "def home():\n",
        "    return \"Hello, Flask!\"\n",
        "\n",
        "if __name__ == '__main__':\n",
        "    # Run the app on all available interfaces and a specific port\n",
        "    app.run(host='0.0.0.0', port=5000, debug=True)"
      ],
      "execution_count": 14,
      "outputs": [
        {
          "output_type": "stream",
          "name": "stdout",
          "text": [
            "Overwriting app.py\n"
          ]
        }
      ]
    },
    {
      "cell_type": "code",
      "metadata": {
        "id": "8f77a7a2"
      },
      "source": [
        "# Run the Flask app in the background\n",
        "# Use system_raw to run the command without waiting for it to finish\n",
        "get_ipython().system_raw('python app.py &')"
      ],
      "execution_count": 15,
      "outputs": []
    },
    {
      "cell_type": "markdown",
      "metadata": {
        "id": "024d068b"
      },
      "source": [
        "The Flask app is now running in the background. You can access it by clicking the \"Web preview\" button in the left sidebar (if available) or by setting up a tunnel to port 5000."
      ]
    },
    {
      "cell_type": "code",
      "source": [
        "#2.How do you serve static files like images or CSS in Flask?\n"
      ],
      "metadata": {
        "id": "P6jGCMVrfCFv"
      },
      "execution_count": null,
      "outputs": []
    },
    {
      "cell_type": "code",
      "source": [
        "your_project/\n",
        "├── app.py\n",
        "└── static/\n",
        "    ├── style.css\n",
        "    ├── images/\n",
        "    │   └── logo.png\n",
        "    └── script.js"
      ],
      "metadata": {
        "colab": {
          "base_uri": "https://localhost:8080/",
          "height": 110
        },
        "id": "pa72IDn5fVay",
        "outputId": "7c1b9527-a0c5-4255-e08e-c787e911b14f"
      },
      "execution_count": 18,
      "outputs": [
        {
          "output_type": "error",
          "ename": "SyntaxError",
          "evalue": "invalid character '├' (U+251C) (ipython-input-18-968530035.py, line 2)",
          "traceback": [
            "\u001b[0;36m  File \u001b[0;32m\"/tmp/ipython-input-18-968530035.py\"\u001b[0;36m, line \u001b[0;32m2\u001b[0m\n\u001b[0;31m    ├── app.py\u001b[0m\n\u001b[0m    ^\u001b[0m\n\u001b[0;31mSyntaxError\u001b[0m\u001b[0;31m:\u001b[0m invalid character '├' (U+251C)\n"
          ]
        }
      ]
    },
    {
      "cell_type": "markdown",
      "metadata": {
        "id": "086284da"
      },
      "source": [
        "As explained in the first markdown cell (cell ID `6rSeIbY8Piwt`, point 17), Flask handles static files (like CSS, JavaScript, images, etc.) by looking for a folder named `static/` in your project root by default. You can then link to these files in your HTML templates using the `url_for('static', filename='path/to/your/file')` function."
      ]
    },
    {
      "cell_type": "code",
      "source": [
        "<!-- templates/index.html -->\n",
        "<!DOCTYPE html>\n",
        "<html>\n",
        "<head>\n",
        "    <title>Flask Static Demo</title>\n",
        "    <link rel=\"stylesheet\" href=\"{{ url_for('static', filename='style.css') }}\">\n",
        "</head>\n",
        "<body>\n",
        "    <h1>Welcome!</h1>\n",
        "    <img src=\"{{ url_for('static', filename='images/logo.png') }}\" alt=\"Logo\">\n",
        "    <script src=\"{{ url_for('static', filename='script.js') }}\"></script>\n",
        "</body>\n",
        "</html>"
      ],
      "metadata": {
        "colab": {
          "base_uri": "https://localhost:8080/",
          "height": 110
        },
        "id": "hCPCMoPOft8Z",
        "outputId": "4f494811-e7d6-4e9b-df31-58416366e722"
      },
      "execution_count": 19,
      "outputs": [
        {
          "output_type": "error",
          "ename": "SyntaxError",
          "evalue": "invalid syntax (ipython-input-19-790512647.py, line 1)",
          "traceback": [
            "\u001b[0;36m  File \u001b[0;32m\"/tmp/ipython-input-19-790512647.py\"\u001b[0;36m, line \u001b[0;32m1\u001b[0m\n\u001b[0;31m    <!-- templates/index.html -->\u001b[0m\n\u001b[0m    ^\u001b[0m\n\u001b[0;31mSyntaxError\u001b[0m\u001b[0;31m:\u001b[0m invalid syntax\n"
          ]
        }
      ]
    },
    {
      "cell_type": "markdown",
      "metadata": {
        "id": "0921a11c"
      },
      "source": [
        "First, let's create a `templates` folder and save the HTML code as `index.html` inside it."
      ]
    },
    {
      "cell_type": "code",
      "metadata": {
        "id": "5e27cb4e"
      },
      "source": [
        "# Create templates directory\n",
        "!mkdir templates"
      ],
      "execution_count": 22,
      "outputs": []
    },
    {
      "cell_type": "code",
      "metadata": {
        "colab": {
          "base_uri": "https://localhost:8080/"
        },
        "id": "a03093dc",
        "outputId": "6f086199-35e4-4a9f-cfd4-3dfa754f03f2"
      },
      "source": [
        "# Create the HTML template file\n",
        "%%writefile templates/index.html\n",
        "<!DOCTYPE html>\n",
        "<html>\n",
        "<head>\n",
        "    <title>Flask Static Demo</title>\n",
        "    <link rel=\"stylesheet\" href=\"{{ url_for('static', filename='style.css') }}\">\n",
        "</head>\n",
        "<body>\n",
        "    <h1>Welcome!</h1>\n",
        "    <img src=\"{{ url_for('static', filename='images/logo.png') }}\" alt=\"Logo\">\n",
        "    <script src=\"{{ url_for('static', filename='script.js') }}\"></script>\n",
        "</body>\n",
        "</html>"
      ],
      "execution_count": 25,
      "outputs": [
        {
          "output_type": "stream",
          "name": "stdout",
          "text": [
            "Overwriting templates/index.html\n"
          ]
        }
      ]
    },
    {
      "cell_type": "markdown",
      "metadata": {
        "id": "d3f36eaa"
      },
      "source": [
        "Now, modify your `app.py` file to use the `render_template` function to serve this HTML file."
      ]
    },
    {
      "cell_type": "code",
      "metadata": {
        "colab": {
          "base_uri": "https://localhost:8080/"
        },
        "id": "f84f901f",
        "outputId": "1ec0956f-8df8-406c-9358-86937d16ecf1"
      },
      "source": [
        "%%writefile app.py\n",
        "from flask import Flask, render_template\n",
        "\n",
        "app = Flask(__name__)\n",
        "\n",
        "@app.route('/')\n",
        "def home():\n",
        "    return render_template('index.html') # Render the template\n",
        "\n",
        "if __name__ == '__main__':\n",
        "    # Run the app on all available interfaces and a specific port\n",
        "    app.run(host='0.0.0.0', port=5000, debug=True)"
      ],
      "execution_count": 24,
      "outputs": [
        {
          "output_type": "stream",
          "name": "stdout",
          "text": [
            "Overwriting app.py\n"
          ]
        }
      ]
    },
    {
      "cell_type": "markdown",
      "metadata": {
        "id": "ac3db839"
      },
      "source": [
        "Remember to restart your Flask application after modifying `app.py`. You can do this by stopping the previous background process (you might need to find its process ID and kill it, or restart the Colab runtime) and then running the cell to start the app again."
      ]
    },
    {
      "cell_type": "code",
      "source": [
        "#3. How do you define different routes with different HTTP methods in Flask?\n",
        "from flask import Flask, request\n",
        "\n",
        "app = Flask(__name__)\n",
        "\n",
        "@app.route('/submit', methods=['GET', 'POST'])\n",
        "def submit():\n",
        "    if request.method == 'POST':\n",
        "        return \"Data submitted!\"\n",
        "    return \"Submit your data via POST.\"\n"
      ],
      "metadata": {
        "id": "lxmm-nx_gf7-"
      },
      "execution_count": 27,
      "outputs": []
    },
    {
      "cell_type": "code",
      "source": [
        "#4. How do you render HTML templates in Flask?\n"
      ],
      "metadata": {
        "id": "2yCIEtT_hFiy"
      },
      "execution_count": null,
      "outputs": []
    },
    {
      "cell_type": "code",
      "source": [
        "your_project/\n",
        "├── app.py\n",
        "└── templates/\n",
        "    └── index.html"
      ],
      "metadata": {
        "colab": {
          "base_uri": "https://localhost:8080/",
          "height": 110
        },
        "id": "A93ib40shluu",
        "outputId": "b9d8e0e1-cebd-45df-9c62-91e2dde9566b"
      },
      "execution_count": 30,
      "outputs": [
        {
          "output_type": "error",
          "ename": "SyntaxError",
          "evalue": "invalid character '├' (U+251C) (ipython-input-30-2101976484.py, line 2)",
          "traceback": [
            "\u001b[0;36m  File \u001b[0;32m\"/tmp/ipython-input-30-2101976484.py\"\u001b[0;36m, line \u001b[0;32m2\u001b[0m\n\u001b[0;31m    ├── app.py\u001b[0m\n\u001b[0m    ^\u001b[0m\n\u001b[0;31mSyntaxError\u001b[0m\u001b[0;31m:\u001b[0m invalid character '├' (U+251C)\n"
          ]
        }
      ]
    },
    {
      "cell_type": "markdown",
      "metadata": {
        "id": "424a5b6b"
      },
      "source": [
        "As shown in the previous steps (cell ID `0921a11c` and following), HTML template files are typically stored in a folder named `templates/` in your project root. Flask's `render_template()` function automatically looks for templates in this directory."
      ]
    },
    {
      "cell_type": "code",
      "metadata": {
        "colab": {
          "base_uri": "https://localhost:8080/"
        },
        "id": "b613df20",
        "outputId": "e540014f-aae7-4ddb-cc75-4dbe80d2d6ca"
      },
      "source": [
        "# Create the welcome HTML template file\n",
        "%%writefile templates/welcome.html\n",
        "<!DOCTYPE html>\n",
        "<html>\n",
        "<head>\n",
        "    <title>Welcome</title>\n",
        "</head>\n",
        "<body>\n",
        "    <h1>Hello, {{ name }}!</h1>\n",
        "</body>\n",
        "</html>"
      ],
      "execution_count": 34,
      "outputs": [
        {
          "output_type": "stream",
          "name": "stdout",
          "text": [
            "Writing templates/welcome.html\n"
          ]
        }
      ]
    },
    {
      "cell_type": "markdown",
      "metadata": {
        "id": "fbc9af8a"
      },
      "source": [
        "Now, let's add a new route to `app.py` to render this `welcome.html` template, passing a `name` variable to it."
      ]
    },
    {
      "cell_type": "code",
      "metadata": {
        "colab": {
          "base_uri": "https://localhost:8080/"
        },
        "id": "1f009a20",
        "outputId": "7f6e65ac-0346-46a2-c9f3-8da06a3f84e5"
      },
      "source": [
        "%%writefile app.py\n",
        "from flask import Flask, render_template\n",
        "\n",
        "app = Flask(__name__)\n",
        "\n",
        "@app.route('/')\n",
        "def home():\n",
        "    return render_template('index.html') # Render the index template\n",
        "\n",
        "@app.route('/welcome/<name>')\n",
        "def welcome(name):\n",
        "    return render_template('welcome.html', name=name) # Render the welcome template with a variable\n",
        "\n",
        "if __name__ == '__main__':\n",
        "    # Run the app on all available interfaces and a specific port\n",
        "    app.run(host='0.0.0.0', port=5000, debug=True)"
      ],
      "execution_count": 35,
      "outputs": [
        {
          "output_type": "stream",
          "name": "stdout",
          "text": [
            "Overwriting app.py\n"
          ]
        }
      ]
    },
    {
      "cell_type": "markdown",
      "metadata": {
        "id": "f8352b73"
      },
      "source": [
        "Remember to restart your Flask application after modifying `app.py`. After restarting, you can access the new route by visiting `/welcome/<your_name>` (replace `<your_name>` with a name) in your web browser."
      ]
    },
    {
      "cell_type": "code",
      "source": [
        "from flask import Flask, render_template\n",
        "\n",
        "app = Flask(__name__)\n",
        "\n",
        "@app.route('/')\n",
        "def home():\n",
        "    return render_template('index.html', name='Arbaaz')\n",
        "\n",
        "if __name__ == '__main__':\n",
        "    app.run(debug=True)"
      ],
      "metadata": {
        "colab": {
          "base_uri": "https://localhost:8080/",
          "height": 1000
        },
        "id": "UVAyM734idiZ",
        "outputId": "0166f06b-a3a7-4430-871b-a58b5e3aaab1"
      },
      "execution_count": 37,
      "outputs": [
        {
          "output_type": "stream",
          "name": "stdout",
          "text": [
            " * Serving Flask app '__main__'\n",
            " * Debug mode: on\n"
          ]
        },
        {
          "output_type": "stream",
          "name": "stderr",
          "text": [
            "Address already in use\n",
            "Port 5000 is in use by another program. Either identify and stop that program, or start the server with a different port.\n",
            "ERROR:root:Internal Python error in the inspect module.\n",
            "Below is the traceback from this internal error.\n",
            "\n"
          ]
        },
        {
          "output_type": "stream",
          "name": "stdout",
          "text": [
            "Traceback (most recent call last):\n",
            "  File \"/usr/local/lib/python3.11/dist-packages/werkzeug/serving.py\", line 759, in __init__\n",
            "    self.server_bind()\n",
            "  File \"/usr/lib/python3.11/http/server.py\", line 136, in server_bind\n",
            "    socketserver.TCPServer.server_bind(self)\n",
            "  File \"/usr/lib/python3.11/socketserver.py\", line 472, in server_bind\n",
            "    self.socket.bind(self.server_address)\n",
            "OSError: [Errno 98] Address already in use\n",
            "\n",
            "During handling of the above exception, another exception occurred:\n",
            "\n",
            "Traceback (most recent call last):\n",
            "  File \"/usr/local/lib/python3.11/dist-packages/IPython/core/interactiveshell.py\", line 3553, in run_code\n",
            "    exec(code_obj, self.user_global_ns, self.user_ns)\n",
            "  File \"/tmp/ipython-input-37-2856112334.py\", line 10, in <cell line: 0>\n",
            "    app.run(debug=True)\n",
            "  File \"/usr/local/lib/python3.11/dist-packages/flask/app.py\", line 662, in run\n",
            "    run_simple(t.cast(str, host), port, self, **options)\n",
            "  File \"/usr/local/lib/python3.11/dist-packages/werkzeug/serving.py\", line 1093, in run_simple\n",
            "    srv = make_server(\n",
            "          ^^^^^^^^^^^^\n",
            "  File \"/usr/local/lib/python3.11/dist-packages/werkzeug/serving.py\", line 930, in make_server\n",
            "    return ThreadedWSGIServer(\n",
            "           ^^^^^^^^^^^^^^^^^^^\n",
            "  File \"/usr/local/lib/python3.11/dist-packages/werkzeug/serving.py\", line 782, in __init__\n",
            "    sys.exit(1)\n",
            "SystemExit: 1\n",
            "\n",
            "During handling of the above exception, another exception occurred:\n",
            "\n",
            "Traceback (most recent call last):\n",
            "  File \"/usr/local/lib/python3.11/dist-packages/IPython/core/ultratb.py\", line 1101, in get_records\n",
            "    return _fixed_getinnerframes(etb, number_of_lines_of_context, tb_offset)\n",
            "           ^^^^^^^^^^^^^^^^^^^^^^^^^^^^^^^^^^^^^^^^^^^^^^^^^^^^^^^^^^^^^^^^^\n",
            "  File \"/usr/local/lib/python3.11/dist-packages/IPython/core/ultratb.py\", line 248, in wrapped\n",
            "    return f(*args, **kwargs)\n",
            "           ^^^^^^^^^^^^^^^^^^\n",
            "  File \"/usr/local/lib/python3.11/dist-packages/IPython/core/ultratb.py\", line 281, in _fixed_getinnerframes\n",
            "    records = fix_frame_records_filenames(inspect.getinnerframes(etb, context))\n",
            "                                          ^^^^^^^^^^^^^^^^^^^^^^^^^^^^^^^^^^^^\n",
            "  File \"/usr/lib/python3.11/inspect.py\", line 1739, in getinnerframes\n",
            "    traceback_info = getframeinfo(tb, context)\n",
            "                     ^^^^^^^^^^^^^^^^^^^^^^^^^\n",
            "  File \"/usr/lib/python3.11/inspect.py\", line 1671, in getframeinfo\n",
            "    lineno = frame.f_lineno\n",
            "             ^^^^^^^^^^^^^^\n",
            "AttributeError: 'tuple' object has no attribute 'f_lineno'\n"
          ]
        },
        {
          "output_type": "error",
          "ename": "TypeError",
          "evalue": "object of type 'NoneType' has no len()",
          "traceback": [
            "\u001b[0;31m---------------------------------------------------------------------------\u001b[0m",
            "\u001b[0;31mOSError\u001b[0m                                   Traceback (most recent call last)",
            "\u001b[0;32m/usr/local/lib/python3.11/dist-packages/werkzeug/serving.py\u001b[0m in \u001b[0;36m__init__\u001b[0;34m(self, host, port, app, handler, passthrough_errors, ssl_context, fd)\u001b[0m\n\u001b[1;32m    758\u001b[0m             \u001b[0;32mtry\u001b[0m\u001b[0;34m:\u001b[0m\u001b[0;34m\u001b[0m\u001b[0;34m\u001b[0m\u001b[0m\n\u001b[0;32m--> 759\u001b[0;31m                 \u001b[0mself\u001b[0m\u001b[0;34m.\u001b[0m\u001b[0mserver_bind\u001b[0m\u001b[0;34m(\u001b[0m\u001b[0;34m)\u001b[0m\u001b[0;34m\u001b[0m\u001b[0;34m\u001b[0m\u001b[0m\n\u001b[0m\u001b[1;32m    760\u001b[0m                 \u001b[0mself\u001b[0m\u001b[0;34m.\u001b[0m\u001b[0mserver_activate\u001b[0m\u001b[0;34m(\u001b[0m\u001b[0;34m)\u001b[0m\u001b[0;34m\u001b[0m\u001b[0;34m\u001b[0m\u001b[0m\n",
            "\u001b[0;32m/usr/lib/python3.11/http/server.py\u001b[0m in \u001b[0;36mserver_bind\u001b[0;34m(self)\u001b[0m\n\u001b[1;32m    135\u001b[0m         \u001b[0;34m\"\"\"Override server_bind to store the server name.\"\"\"\u001b[0m\u001b[0;34m\u001b[0m\u001b[0;34m\u001b[0m\u001b[0m\n\u001b[0;32m--> 136\u001b[0;31m         \u001b[0msocketserver\u001b[0m\u001b[0;34m.\u001b[0m\u001b[0mTCPServer\u001b[0m\u001b[0;34m.\u001b[0m\u001b[0mserver_bind\u001b[0m\u001b[0;34m(\u001b[0m\u001b[0mself\u001b[0m\u001b[0;34m)\u001b[0m\u001b[0;34m\u001b[0m\u001b[0;34m\u001b[0m\u001b[0m\n\u001b[0m\u001b[1;32m    137\u001b[0m         \u001b[0mhost\u001b[0m\u001b[0;34m,\u001b[0m \u001b[0mport\u001b[0m \u001b[0;34m=\u001b[0m \u001b[0mself\u001b[0m\u001b[0;34m.\u001b[0m\u001b[0mserver_address\u001b[0m\u001b[0;34m[\u001b[0m\u001b[0;34m:\u001b[0m\u001b[0;36m2\u001b[0m\u001b[0;34m]\u001b[0m\u001b[0;34m\u001b[0m\u001b[0;34m\u001b[0m\u001b[0m\n",
            "\u001b[0;32m/usr/lib/python3.11/socketserver.py\u001b[0m in \u001b[0;36mserver_bind\u001b[0;34m(self)\u001b[0m\n\u001b[1;32m    471\u001b[0m             \u001b[0mself\u001b[0m\u001b[0;34m.\u001b[0m\u001b[0msocket\u001b[0m\u001b[0;34m.\u001b[0m\u001b[0msetsockopt\u001b[0m\u001b[0;34m(\u001b[0m\u001b[0msocket\u001b[0m\u001b[0;34m.\u001b[0m\u001b[0mSOL_SOCKET\u001b[0m\u001b[0;34m,\u001b[0m \u001b[0msocket\u001b[0m\u001b[0;34m.\u001b[0m\u001b[0mSO_REUSEPORT\u001b[0m\u001b[0;34m,\u001b[0m \u001b[0;36m1\u001b[0m\u001b[0;34m)\u001b[0m\u001b[0;34m\u001b[0m\u001b[0;34m\u001b[0m\u001b[0m\n\u001b[0;32m--> 472\u001b[0;31m         \u001b[0mself\u001b[0m\u001b[0;34m.\u001b[0m\u001b[0msocket\u001b[0m\u001b[0;34m.\u001b[0m\u001b[0mbind\u001b[0m\u001b[0;34m(\u001b[0m\u001b[0mself\u001b[0m\u001b[0;34m.\u001b[0m\u001b[0mserver_address\u001b[0m\u001b[0;34m)\u001b[0m\u001b[0;34m\u001b[0m\u001b[0;34m\u001b[0m\u001b[0m\n\u001b[0m\u001b[1;32m    473\u001b[0m         \u001b[0mself\u001b[0m\u001b[0;34m.\u001b[0m\u001b[0mserver_address\u001b[0m \u001b[0;34m=\u001b[0m \u001b[0mself\u001b[0m\u001b[0;34m.\u001b[0m\u001b[0msocket\u001b[0m\u001b[0;34m.\u001b[0m\u001b[0mgetsockname\u001b[0m\u001b[0;34m(\u001b[0m\u001b[0;34m)\u001b[0m\u001b[0;34m\u001b[0m\u001b[0;34m\u001b[0m\u001b[0m\n",
            "\u001b[0;31mOSError\u001b[0m: [Errno 98] Address already in use",
            "\nDuring handling of the above exception, another exception occurred:\n",
            "\u001b[0;31mSystemExit\u001b[0m                                Traceback (most recent call last)",
            "    \u001b[0;31m[... skipping hidden 1 frame]\u001b[0m\n",
            "\u001b[0;32m/tmp/ipython-input-37-2856112334.py\u001b[0m in \u001b[0;36m<cell line: 0>\u001b[0;34m()\u001b[0m\n\u001b[1;32m      9\u001b[0m \u001b[0;32mif\u001b[0m \u001b[0m__name__\u001b[0m \u001b[0;34m==\u001b[0m \u001b[0;34m'__main__'\u001b[0m\u001b[0;34m:\u001b[0m\u001b[0;34m\u001b[0m\u001b[0;34m\u001b[0m\u001b[0m\n\u001b[0;32m---> 10\u001b[0;31m     \u001b[0mapp\u001b[0m\u001b[0;34m.\u001b[0m\u001b[0mrun\u001b[0m\u001b[0;34m(\u001b[0m\u001b[0mdebug\u001b[0m\u001b[0;34m=\u001b[0m\u001b[0;32mTrue\u001b[0m\u001b[0;34m)\u001b[0m\u001b[0;34m\u001b[0m\u001b[0;34m\u001b[0m\u001b[0m\n\u001b[0m",
            "\u001b[0;32m/usr/local/lib/python3.11/dist-packages/flask/app.py\u001b[0m in \u001b[0;36mrun\u001b[0;34m(self, host, port, debug, load_dotenv, **options)\u001b[0m\n\u001b[1;32m    661\u001b[0m         \u001b[0;32mtry\u001b[0m\u001b[0;34m:\u001b[0m\u001b[0;34m\u001b[0m\u001b[0;34m\u001b[0m\u001b[0m\n\u001b[0;32m--> 662\u001b[0;31m             \u001b[0mrun_simple\u001b[0m\u001b[0;34m(\u001b[0m\u001b[0mt\u001b[0m\u001b[0;34m.\u001b[0m\u001b[0mcast\u001b[0m\u001b[0;34m(\u001b[0m\u001b[0mstr\u001b[0m\u001b[0;34m,\u001b[0m \u001b[0mhost\u001b[0m\u001b[0;34m)\u001b[0m\u001b[0;34m,\u001b[0m \u001b[0mport\u001b[0m\u001b[0;34m,\u001b[0m \u001b[0mself\u001b[0m\u001b[0;34m,\u001b[0m \u001b[0;34m**\u001b[0m\u001b[0moptions\u001b[0m\u001b[0;34m)\u001b[0m\u001b[0;34m\u001b[0m\u001b[0;34m\u001b[0m\u001b[0m\n\u001b[0m\u001b[1;32m    663\u001b[0m         \u001b[0;32mfinally\u001b[0m\u001b[0;34m:\u001b[0m\u001b[0;34m\u001b[0m\u001b[0;34m\u001b[0m\u001b[0m\n",
            "\u001b[0;32m/usr/local/lib/python3.11/dist-packages/werkzeug/serving.py\u001b[0m in \u001b[0;36mrun_simple\u001b[0;34m(hostname, port, application, use_reloader, use_debugger, use_evalex, extra_files, exclude_patterns, reloader_interval, reloader_type, threaded, processes, request_handler, static_files, passthrough_errors, ssl_context)\u001b[0m\n\u001b[1;32m   1092\u001b[0m \u001b[0;34m\u001b[0m\u001b[0m\n\u001b[0;32m-> 1093\u001b[0;31m     srv = make_server(\n\u001b[0m\u001b[1;32m   1094\u001b[0m         \u001b[0mhostname\u001b[0m\u001b[0;34m,\u001b[0m\u001b[0;34m\u001b[0m\u001b[0;34m\u001b[0m\u001b[0m\n",
            "\u001b[0;32m/usr/local/lib/python3.11/dist-packages/werkzeug/serving.py\u001b[0m in \u001b[0;36mmake_server\u001b[0;34m(host, port, app, threaded, processes, request_handler, passthrough_errors, ssl_context, fd)\u001b[0m\n\u001b[1;32m    929\u001b[0m     \u001b[0;32mif\u001b[0m \u001b[0mthreaded\u001b[0m\u001b[0;34m:\u001b[0m\u001b[0;34m\u001b[0m\u001b[0;34m\u001b[0m\u001b[0m\n\u001b[0;32m--> 930\u001b[0;31m         return ThreadedWSGIServer(\n\u001b[0m\u001b[1;32m    931\u001b[0m             \u001b[0mhost\u001b[0m\u001b[0;34m,\u001b[0m \u001b[0mport\u001b[0m\u001b[0;34m,\u001b[0m \u001b[0mapp\u001b[0m\u001b[0;34m,\u001b[0m \u001b[0mrequest_handler\u001b[0m\u001b[0;34m,\u001b[0m \u001b[0mpassthrough_errors\u001b[0m\u001b[0;34m,\u001b[0m \u001b[0mssl_context\u001b[0m\u001b[0;34m,\u001b[0m \u001b[0mfd\u001b[0m\u001b[0;34m=\u001b[0m\u001b[0mfd\u001b[0m\u001b[0;34m\u001b[0m\u001b[0;34m\u001b[0m\u001b[0m\n",
            "\u001b[0;32m/usr/local/lib/python3.11/dist-packages/werkzeug/serving.py\u001b[0m in \u001b[0;36m__init__\u001b[0;34m(self, host, port, app, handler, passthrough_errors, ssl_context, fd)\u001b[0m\n\u001b[1;32m    781\u001b[0m \u001b[0;34m\u001b[0m\u001b[0m\n\u001b[0;32m--> 782\u001b[0;31m                 \u001b[0msys\u001b[0m\u001b[0;34m.\u001b[0m\u001b[0mexit\u001b[0m\u001b[0;34m(\u001b[0m\u001b[0;36m1\u001b[0m\u001b[0;34m)\u001b[0m\u001b[0;34m\u001b[0m\u001b[0;34m\u001b[0m\u001b[0m\n\u001b[0m\u001b[1;32m    783\u001b[0m             \u001b[0;32mexcept\u001b[0m \u001b[0mBaseException\u001b[0m\u001b[0;34m:\u001b[0m\u001b[0;34m\u001b[0m\u001b[0;34m\u001b[0m\u001b[0m\n",
            "\u001b[0;31mSystemExit\u001b[0m: 1",
            "\nDuring handling of the above exception, another exception occurred:\n",
            "\u001b[0;31mTypeError\u001b[0m                                 Traceback (most recent call last)",
            "    \u001b[0;31m[... skipping hidden 1 frame]\u001b[0m\n",
            "\u001b[0;32m/usr/local/lib/python3.11/dist-packages/IPython/core/interactiveshell.py\u001b[0m in \u001b[0;36mshowtraceback\u001b[0;34m(self, exc_tuple, filename, tb_offset, exception_only, running_compiled_code)\u001b[0m\n\u001b[1;32m   2090\u001b[0m                     stb = ['An exception has occurred, use %tb to see '\n\u001b[1;32m   2091\u001b[0m                            'the full traceback.\\n']\n\u001b[0;32m-> 2092\u001b[0;31m                     stb.extend(self.InteractiveTB.get_exception_only(etype,\n\u001b[0m\u001b[1;32m   2093\u001b[0m                                                                      value))\n\u001b[1;32m   2094\u001b[0m                 \u001b[0;32melse\u001b[0m\u001b[0;34m:\u001b[0m\u001b[0;34m\u001b[0m\u001b[0;34m\u001b[0m\u001b[0m\n",
            "\u001b[0;32m/usr/local/lib/python3.11/dist-packages/IPython/core/ultratb.py\u001b[0m in \u001b[0;36mget_exception_only\u001b[0;34m(self, etype, value)\u001b[0m\n\u001b[1;32m    752\u001b[0m         \u001b[0mvalue\u001b[0m \u001b[0;34m:\u001b[0m \u001b[0mexception\u001b[0m \u001b[0mvalue\u001b[0m\u001b[0;34m\u001b[0m\u001b[0;34m\u001b[0m\u001b[0m\n\u001b[1;32m    753\u001b[0m         \"\"\"\n\u001b[0;32m--> 754\u001b[0;31m         \u001b[0;32mreturn\u001b[0m \u001b[0mListTB\u001b[0m\u001b[0;34m.\u001b[0m\u001b[0mstructured_traceback\u001b[0m\u001b[0;34m(\u001b[0m\u001b[0mself\u001b[0m\u001b[0;34m,\u001b[0m \u001b[0metype\u001b[0m\u001b[0;34m,\u001b[0m \u001b[0mvalue\u001b[0m\u001b[0;34m)\u001b[0m\u001b[0;34m\u001b[0m\u001b[0;34m\u001b[0m\u001b[0m\n\u001b[0m\u001b[1;32m    755\u001b[0m \u001b[0;34m\u001b[0m\u001b[0m\n\u001b[1;32m    756\u001b[0m     \u001b[0;32mdef\u001b[0m \u001b[0mshow_exception_only\u001b[0m\u001b[0;34m(\u001b[0m\u001b[0mself\u001b[0m\u001b[0;34m,\u001b[0m \u001b[0metype\u001b[0m\u001b[0;34m,\u001b[0m \u001b[0mevalue\u001b[0m\u001b[0;34m)\u001b[0m\u001b[0;34m:\u001b[0m\u001b[0;34m\u001b[0m\u001b[0;34m\u001b[0m\u001b[0m\n",
            "\u001b[0;32m/usr/local/lib/python3.11/dist-packages/IPython/core/ultratb.py\u001b[0m in \u001b[0;36mstructured_traceback\u001b[0;34m(self, etype, evalue, etb, tb_offset, context)\u001b[0m\n\u001b[1;32m    627\u001b[0m             \u001b[0mchained_exceptions_tb_offset\u001b[0m \u001b[0;34m=\u001b[0m \u001b[0;36m0\u001b[0m\u001b[0;34m\u001b[0m\u001b[0;34m\u001b[0m\u001b[0m\n\u001b[1;32m    628\u001b[0m             out_list = (\n\u001b[0;32m--> 629\u001b[0;31m                 self.structured_traceback(\n\u001b[0m\u001b[1;32m    630\u001b[0m                     \u001b[0metype\u001b[0m\u001b[0;34m,\u001b[0m \u001b[0mevalue\u001b[0m\u001b[0;34m,\u001b[0m \u001b[0;34m(\u001b[0m\u001b[0metb\u001b[0m\u001b[0;34m,\u001b[0m \u001b[0mchained_exc_ids\u001b[0m\u001b[0;34m)\u001b[0m\u001b[0;34m,\u001b[0m\u001b[0;34m\u001b[0m\u001b[0;34m\u001b[0m\u001b[0m\n\u001b[1;32m    631\u001b[0m                     chained_exceptions_tb_offset, context)\n",
            "\u001b[0;32m/usr/local/lib/python3.11/dist-packages/IPython/core/ultratb.py\u001b[0m in \u001b[0;36mstructured_traceback\u001b[0;34m(self, etype, value, tb, tb_offset, number_of_lines_of_context)\u001b[0m\n\u001b[1;32m   1365\u001b[0m         \u001b[0;32melse\u001b[0m\u001b[0;34m:\u001b[0m\u001b[0;34m\u001b[0m\u001b[0;34m\u001b[0m\u001b[0m\n\u001b[1;32m   1366\u001b[0m             \u001b[0mself\u001b[0m\u001b[0;34m.\u001b[0m\u001b[0mtb\u001b[0m \u001b[0;34m=\u001b[0m \u001b[0mtb\u001b[0m\u001b[0;34m\u001b[0m\u001b[0;34m\u001b[0m\u001b[0m\n\u001b[0;32m-> 1367\u001b[0;31m         return FormattedTB.structured_traceback(\n\u001b[0m\u001b[1;32m   1368\u001b[0m             self, etype, value, tb, tb_offset, number_of_lines_of_context)\n\u001b[1;32m   1369\u001b[0m \u001b[0;34m\u001b[0m\u001b[0m\n",
            "\u001b[0;32m/usr/local/lib/python3.11/dist-packages/IPython/core/ultratb.py\u001b[0m in \u001b[0;36mstructured_traceback\u001b[0;34m(self, etype, value, tb, tb_offset, number_of_lines_of_context)\u001b[0m\n\u001b[1;32m   1265\u001b[0m         \u001b[0;32mif\u001b[0m \u001b[0mmode\u001b[0m \u001b[0;32min\u001b[0m \u001b[0mself\u001b[0m\u001b[0;34m.\u001b[0m\u001b[0mverbose_modes\u001b[0m\u001b[0;34m:\u001b[0m\u001b[0;34m\u001b[0m\u001b[0;34m\u001b[0m\u001b[0m\n\u001b[1;32m   1266\u001b[0m             \u001b[0;31m# Verbose modes need a full traceback\u001b[0m\u001b[0;34m\u001b[0m\u001b[0;34m\u001b[0m\u001b[0m\n\u001b[0;32m-> 1267\u001b[0;31m             return VerboseTB.structured_traceback(\n\u001b[0m\u001b[1;32m   1268\u001b[0m                 \u001b[0mself\u001b[0m\u001b[0;34m,\u001b[0m \u001b[0metype\u001b[0m\u001b[0;34m,\u001b[0m \u001b[0mvalue\u001b[0m\u001b[0;34m,\u001b[0m \u001b[0mtb\u001b[0m\u001b[0;34m,\u001b[0m \u001b[0mtb_offset\u001b[0m\u001b[0;34m,\u001b[0m \u001b[0mnumber_of_lines_of_context\u001b[0m\u001b[0;34m\u001b[0m\u001b[0;34m\u001b[0m\u001b[0m\n\u001b[1;32m   1269\u001b[0m             )\n",
            "\u001b[0;32m/usr/local/lib/python3.11/dist-packages/IPython/core/ultratb.py\u001b[0m in \u001b[0;36mstructured_traceback\u001b[0;34m(self, etype, evalue, etb, tb_offset, number_of_lines_of_context)\u001b[0m\n\u001b[1;32m   1122\u001b[0m         \u001b[0;34m\"\"\"Return a nice text document describing the traceback.\"\"\"\u001b[0m\u001b[0;34m\u001b[0m\u001b[0;34m\u001b[0m\u001b[0m\n\u001b[1;32m   1123\u001b[0m \u001b[0;34m\u001b[0m\u001b[0m\n\u001b[0;32m-> 1124\u001b[0;31m         formatted_exception = self.format_exception_as_a_whole(etype, evalue, etb, number_of_lines_of_context,\n\u001b[0m\u001b[1;32m   1125\u001b[0m                                                                tb_offset)\n\u001b[1;32m   1126\u001b[0m \u001b[0;34m\u001b[0m\u001b[0m\n",
            "\u001b[0;32m/usr/local/lib/python3.11/dist-packages/IPython/core/ultratb.py\u001b[0m in \u001b[0;36mformat_exception_as_a_whole\u001b[0;34m(self, etype, evalue, etb, number_of_lines_of_context, tb_offset)\u001b[0m\n\u001b[1;32m   1080\u001b[0m \u001b[0;34m\u001b[0m\u001b[0m\n\u001b[1;32m   1081\u001b[0m \u001b[0;34m\u001b[0m\u001b[0m\n\u001b[0;32m-> 1082\u001b[0;31m         \u001b[0mlast_unique\u001b[0m\u001b[0;34m,\u001b[0m \u001b[0mrecursion_repeat\u001b[0m \u001b[0;34m=\u001b[0m \u001b[0mfind_recursion\u001b[0m\u001b[0;34m(\u001b[0m\u001b[0morig_etype\u001b[0m\u001b[0;34m,\u001b[0m \u001b[0mevalue\u001b[0m\u001b[0;34m,\u001b[0m \u001b[0mrecords\u001b[0m\u001b[0;34m)\u001b[0m\u001b[0;34m\u001b[0m\u001b[0;34m\u001b[0m\u001b[0m\n\u001b[0m\u001b[1;32m   1083\u001b[0m \u001b[0;34m\u001b[0m\u001b[0m\n\u001b[1;32m   1084\u001b[0m         \u001b[0mframes\u001b[0m \u001b[0;34m=\u001b[0m \u001b[0mself\u001b[0m\u001b[0;34m.\u001b[0m\u001b[0mformat_records\u001b[0m\u001b[0;34m(\u001b[0m\u001b[0mrecords\u001b[0m\u001b[0;34m,\u001b[0m \u001b[0mlast_unique\u001b[0m\u001b[0;34m,\u001b[0m \u001b[0mrecursion_repeat\u001b[0m\u001b[0;34m)\u001b[0m\u001b[0;34m\u001b[0m\u001b[0;34m\u001b[0m\u001b[0m\n",
            "\u001b[0;32m/usr/local/lib/python3.11/dist-packages/IPython/core/ultratb.py\u001b[0m in \u001b[0;36mfind_recursion\u001b[0;34m(etype, value, records)\u001b[0m\n\u001b[1;32m    380\u001b[0m     \u001b[0;31m# first frame (from in to out) that looks different.\u001b[0m\u001b[0;34m\u001b[0m\u001b[0;34m\u001b[0m\u001b[0m\n\u001b[1;32m    381\u001b[0m     \u001b[0;32mif\u001b[0m \u001b[0;32mnot\u001b[0m \u001b[0mis_recursion_error\u001b[0m\u001b[0;34m(\u001b[0m\u001b[0metype\u001b[0m\u001b[0;34m,\u001b[0m \u001b[0mvalue\u001b[0m\u001b[0;34m,\u001b[0m \u001b[0mrecords\u001b[0m\u001b[0;34m)\u001b[0m\u001b[0;34m:\u001b[0m\u001b[0;34m\u001b[0m\u001b[0;34m\u001b[0m\u001b[0m\n\u001b[0;32m--> 382\u001b[0;31m         \u001b[0;32mreturn\u001b[0m \u001b[0mlen\u001b[0m\u001b[0;34m(\u001b[0m\u001b[0mrecords\u001b[0m\u001b[0;34m)\u001b[0m\u001b[0;34m,\u001b[0m \u001b[0;36m0\u001b[0m\u001b[0;34m\u001b[0m\u001b[0;34m\u001b[0m\u001b[0m\n\u001b[0m\u001b[1;32m    383\u001b[0m \u001b[0;34m\u001b[0m\u001b[0m\n\u001b[1;32m    384\u001b[0m     \u001b[0;31m# Select filename, lineno, func_name to track frames with\u001b[0m\u001b[0;34m\u001b[0m\u001b[0;34m\u001b[0m\u001b[0m\n",
            "\u001b[0;31mTypeError\u001b[0m: object of type 'NoneType' has no len()"
          ]
        }
      ]
    },
    {
      "cell_type": "code",
      "source": [
        "#5.How can you generate URLs for routes in Flask using url_for?\n",
        "from flask import Flask, url_for\n",
        "\n",
        "app = Flask(__name__)\n",
        "\n",
        "@app.route('/')\n",
        "def home():\n",
        "    return 'Welcome to the homepage!'\n",
        "\n",
        "with app.test_request_context():\n",
        "    print(url_for('home'))"
      ],
      "metadata": {
        "colab": {
          "base_uri": "https://localhost:8080/"
        },
        "id": "-EsRWCGci3e2",
        "outputId": "b3ed28cb-8178-462a-ef68-d91d94fb3d16"
      },
      "execution_count": 38,
      "outputs": [
        {
          "output_type": "stream",
          "name": "stdout",
          "text": [
            "/\n"
          ]
        }
      ]
    },
    {
      "cell_type": "code",
      "source": [
        "#6.How do you handle forms in Flask?\n"
      ],
      "metadata": {
        "id": "7Qlx34TLjdhL"
      },
      "execution_count": 44,
      "outputs": []
    },
    {
      "cell_type": "code",
      "metadata": {
        "id": "f626b98d"
      },
      "source": [
        "from flask_wtf import FlaskForm\n",
        "from wtforms import StringField, SubmitField\n",
        "from wtforms.validators import DataRequired\n",
        "\n",
        "class SimpleForm(FlaskForm):\n",
        "    name = StringField('Name', validators=[DataRequired()])\n",
        "    submit = SubmitField('Submit')"
      ],
      "execution_count": 43,
      "outputs": []
    },
    {
      "cell_type": "markdown",
      "metadata": {
        "id": "22daf0cd"
      },
      "source": [
        "In this example:\n",
        "\n",
        "- We import `FlaskForm` from `flask_wtf`.\n",
        "- We import `StringField` and `SubmitField` for text input and a submit button, and `DataRequired` as a validator to ensure the name field is not empty.\n",
        "- We create a class `SimpleForm` that inherits from `FlaskForm`.\n",
        "- We define `name` as a `StringField` with a label 'Name' and the `DataRequired` validator.\n",
        "- We define `submit` as a `SubmitField` with the label 'Submit'."
      ]
    },
    {
      "cell_type": "code",
      "source": [
        "#7.How can you validate form data in Flask?\n",
        "from flask import Flask, request, redirect, url_for, flash\n",
        "\n",
        "app = Flask(__name__)\n",
        "app.secret_key = 'secret'  # Needed for flashing messages\n",
        "\n",
        "@app.route('/submit', methods=['POST'])\n",
        "def submit():\n",
        "    name = request.form.get('name')\n",
        "    email = request.form.get('email')\n",
        "\n",
        "    if not name:\n",
        "        flash('Name is required!')\n",
        "        return redirect(url_for('home'))\n",
        "    if '@' not in email:\n",
        "        flash('Invalid email!')\n",
        "        return redirect(url_for('home'))\n",
        "\n",
        "    flash('Form submitted successfully!')\n",
        "    return redirect(url_for('home'))"
      ],
      "metadata": {
        "id": "FmgsGj41lG5D"
      },
      "execution_count": 45,
      "outputs": []
    },
    {
      "cell_type": "code",
      "source": [
        "#8.How do you manage sessions in Flask?\n",
        "\n"
      ],
      "metadata": {
        "id": "fLwpvfYDljle"
      },
      "execution_count": 49,
      "outputs": []
    },
    {
      "cell_type": "code",
      "metadata": {
        "colab": {
          "base_uri": "https://localhost:8080/"
        },
        "id": "9b095250",
        "outputId": "bcbe0e4f-1d33-4d88-e8d6-4206e598afde"
      },
      "source": [
        "# Install Flask-Session\n",
        "!pip install Flask-Session"
      ],
      "execution_count": 50,
      "outputs": [
        {
          "output_type": "stream",
          "name": "stdout",
          "text": [
            "Requirement already satisfied: Flask-Session in /usr/local/lib/python3.11/dist-packages (0.8.0)\n",
            "Requirement already satisfied: flask>=2.2 in /usr/local/lib/python3.11/dist-packages (from Flask-Session) (3.1.1)\n",
            "Requirement already satisfied: msgspec>=0.18.6 in /usr/local/lib/python3.11/dist-packages (from Flask-Session) (0.19.0)\n",
            "Requirement already satisfied: cachelib in /usr/local/lib/python3.11/dist-packages (from Flask-Session) (0.13.0)\n",
            "Requirement already satisfied: blinker>=1.9.0 in /usr/local/lib/python3.11/dist-packages (from flask>=2.2->Flask-Session) (1.9.0)\n",
            "Requirement already satisfied: click>=8.1.3 in /usr/local/lib/python3.11/dist-packages (from flask>=2.2->Flask-Session) (8.2.1)\n",
            "Requirement already satisfied: itsdangerous>=2.2.0 in /usr/local/lib/python3.11/dist-packages (from flask>=2.2->Flask-Session) (2.2.0)\n",
            "Requirement already satisfied: jinja2>=3.1.2 in /usr/local/lib/python3.11/dist-packages (from flask>=2.2->Flask-Session) (3.1.6)\n",
            "Requirement already satisfied: markupsafe>=2.1.1 in /usr/local/lib/python3.11/dist-packages (from flask>=2.2->Flask-Session) (3.0.2)\n",
            "Requirement already satisfied: werkzeug>=3.1.0 in /usr/local/lib/python3.11/dist-packages (from flask>=2.2->Flask-Session) (3.1.3)\n"
          ]
        }
      ]
    },
    {
      "cell_type": "code",
      "source": [
        "from flask import Flask, session\n",
        "from flask_session import Session\n",
        "\n",
        "app = Flask(__name__)\n",
        "app.config['SESSION_TYPE'] = 'filesystem'  # Options: 'redis', 'memcached', etc.\n",
        "Session(app)\n"
      ],
      "metadata": {
        "colab": {
          "base_uri": "https://localhost:8080/"
        },
        "id": "XRszcC2XmbZ8",
        "outputId": "8b650cda-2040-4deb-e9b1-d5c6b1657866"
      },
      "execution_count": 51,
      "outputs": [
        {
          "output_type": "execute_result",
          "data": {
            "text/plain": [
              "<flask_session.Session at 0x7980c4d33810>"
            ]
          },
          "metadata": {},
          "execution_count": 51
        }
      ]
    },
    {
      "cell_type": "code",
      "source": [
        "#9.How do you redirect to a different route in Flask?\n",
        "from flask import Flask, redirect, url_for\n",
        "\n",
        "app = Flask(__name__)\n"
      ],
      "metadata": {
        "id": "uhaMbhAFmlpG"
      },
      "execution_count": 52,
      "outputs": []
    },
    {
      "cell_type": "code",
      "source": [
        "@app.route('/')\n",
        "def home():\n",
        "    return redirect(url_for('profile'))  # Redirects to the 'profile' route\n",
        "\n",
        "@app.route('/profile')\n",
        "def profile():\n",
        "    return \"This is the profile page\"\n"
      ],
      "metadata": {
        "id": "x4VBbWlim58P"
      },
      "execution_count": 53,
      "outputs": []
    },
    {
      "cell_type": "code",
      "source": [
        "#10.How do you handle errors in Flask (e.g., 404)?\n",
        "from flask import Flask, render_template\n",
        "\n",
        "app = Flask(__name__)\n",
        "\n",
        "@app.errorhandler(404)\n",
        "def page_not_found(error):\n",
        "    return \"<h1>404 - Page Not Found</h1>\", 404\n"
      ],
      "metadata": {
        "id": "7Haa_lkQm-H5"
      },
      "execution_count": 54,
      "outputs": []
    },
    {
      "cell_type": "code",
      "source": [
        "#11.How do you structure a Flask app using Blueprints?\n",
        "\n"
      ],
      "metadata": {
        "id": "FS9CAhb0ngDd"
      },
      "execution_count": 55,
      "outputs": []
    },
    {
      "cell_type": "markdown",
      "metadata": {
        "id": "0de46feb"
      },
      "source": [
        "First, let's create a directory structure for our Flask app with blueprints."
      ]
    },
    {
      "cell_type": "code",
      "metadata": {
        "id": "43a714d0"
      },
      "source": [
        "# Create the main application directory\n",
        "!mkdir my_flask_app\n",
        "!mkdir my_flask_app/auth\n",
        "!mkdir my_flask_app/main"
      ],
      "execution_count": 59,
      "outputs": []
    },
    {
      "cell_type": "code",
      "metadata": {
        "id": "d005cdda"
      },
      "source": [
        "# Create __init__.py files to make directories Python packages\n",
        "!touch my_flask_app/__init__.py\n",
        "!touch my_flask_app/auth/__init__.py\n",
        "!touch my_flask_app/main/__init__.py"
      ],
      "execution_count": 60,
      "outputs": []
    },
    {
      "cell_type": "markdown",
      "metadata": {
        "id": "cdae1c5d"
      },
      "source": [
        "Now, let's put the blueprint definitions into their respective files (`routes.py`) within the new directory structure."
      ]
    },
    {
      "cell_type": "code",
      "metadata": {
        "colab": {
          "base_uri": "https://localhost:8080/"
        },
        "id": "79f0f27e",
        "outputId": "b5901332-3a64-4a83-acbf-5120ca943158"
      },
      "source": [
        "%%writefile my_flask_app/auth/routes.py\n",
        "from flask import Blueprint, render_template, redirect, url_for\n",
        "\n",
        "auth_bp = Blueprint('auth', __name__, url_prefix='/auth')\n",
        "\n",
        "@auth_bp.route('/login')\n",
        "def login():\n",
        "    return render_template('login.html')\n",
        "\n",
        "@auth_bp.route('/logout')\n",
        "def logout():\n",
        "    # Assuming you have a 'main' blueprint with a 'home' route\n",
        "    return redirect(url_for('main.home'))"
      ],
      "execution_count": 61,
      "outputs": [
        {
          "output_type": "stream",
          "name": "stdout",
          "text": [
            "Writing my_flask_app/auth/routes.py\n"
          ]
        }
      ]
    },
    {
      "cell_type": "code",
      "metadata": {
        "colab": {
          "base_uri": "https://localhost:8080/"
        },
        "id": "c41bd322",
        "outputId": "3a8713a3-1145-437d-b559-fca43460475b"
      },
      "source": [
        "%%writefile my_flask_app/main/routes.py\n",
        "from flask import Blueprint, render_template\n",
        "\n",
        "main_bp = Blueprint('main', __name__)\n",
        "\n",
        "@main_bp.route('/')\n",
        "def home():\n",
        "    return render_template('home.html')"
      ],
      "execution_count": 62,
      "outputs": [
        {
          "output_type": "stream",
          "name": "stdout",
          "text": [
            "Writing my_flask_app/main/routes.py\n"
          ]
        }
      ]
    },
    {
      "cell_type": "markdown",
      "metadata": {
        "id": "b636b222"
      },
      "source": [
        "Finally, let's create/modify the main `app.py` file in the root directory to import and register these blueprints. We also need to add the `my_flask_app` directory to the Python path so that we can import modules from it."
      ]
    },
    {
      "cell_type": "code",
      "metadata": {
        "colab": {
          "base_uri": "https://localhost:8080/"
        },
        "id": "179c9e91",
        "outputId": "8654a972-25ad-4d41-899e-6ff1cfedd323"
      },
      "source": [
        "%%writefile app.py\n",
        "from flask import Flask\n",
        "import os\n",
        "import sys\n",
        "\n",
        "# Add the application directory to the Python path\n",
        "sys.path.append(os.path.join(os.getcwd(), 'my_flask_app'))\n",
        "\n",
        "# Import blueprints from the new structure\n",
        "from auth.routes import auth_bp\n",
        "from main.routes import main_bp\n",
        "\n",
        "app = Flask(__name__)\n",
        "app.secret_key = 'your_secret_key' # Needed for flashing messages or sessions\n",
        "\n",
        "# Register blueprints\n",
        "app.register_blueprint(auth_bp)\n",
        "app.register_blueprint(main_bp)\n",
        "\n",
        "if __name__ == '__main__':\n",
        "    # Run the app on all available interfaces and a specific port\n",
        "    # You might need to stop a previous Flask process if one is running\n",
        "    app.run(host='0.0.0.0', port=5000, debug=True)"
      ],
      "execution_count": 64,
      "outputs": [
        {
          "output_type": "stream",
          "name": "stdout",
          "text": [
            "Overwriting app.py\n"
          ]
        }
      ]
    },
    {
      "cell_type": "markdown",
      "metadata": {
        "id": "c536d79d"
      },
      "source": [
        "Remember to run these cells in order. After running the last cell, you should have a Flask app structured with blueprints. If you encounter an \"Address already in use\" error, you'll need to stop the previous Flask process as explained before (often by restarting the Colab runtime)."
      ]
    },
    {
      "cell_type": "code",
      "source": [
        "#12 How do you define a custom Jinja filter in Flask?\n",
        "def reverse_string(s):\n",
        "    return s[::-1]\n"
      ],
      "metadata": {
        "id": "F68EAw1jrejT"
      },
      "execution_count": 65,
      "outputs": []
    },
    {
      "cell_type": "code",
      "source": [
        "app.jinja_env.filters['reverse'] = reverse_string\n"
      ],
      "metadata": {
        "id": "TcZuhDUEsKIf"
      },
      "execution_count": 67,
      "outputs": []
    },
    {
      "cell_type": "code",
      "source": [
        "#13.How can you redirect with query parameters in Flask?\n",
        "@app.route('/search')\n",
        "def search():\n",
        "    query = request.args.get('q')       # 'flask'\n",
        "    page = request.args.get('page')     # '2'\n",
        "    return f\"Search results for: {query}, Page: {page}\"\n"
      ],
      "metadata": {
        "id": "eH5XMKCWsLKK"
      },
      "execution_count": 68,
      "outputs": []
    },
    {
      "cell_type": "code",
      "source": [
        "#14.How do you return JSON responses in Flask?\n",
        "from flask import jsonify\n",
        "\n",
        "@app.route('/api/data')\n",
        "def api_data():\n",
        "    data = {'message': 'Hello, API!'}\n",
        "    return jsonify(data)"
      ],
      "metadata": {
        "id": "p8OrKILosqN4"
      },
      "execution_count": 69,
      "outputs": []
    },
    {
      "cell_type": "code",
      "source": [
        "#15.How do you capture URL parameters in Flask?\n",
        "@app.route('/user/<username>')\n",
        "def user_profile(username):\n",
        "    return f\"Welcome, {username}!\""
      ],
      "metadata": {
        "id": "8ErdigZms43i"
      },
      "execution_count": 70,
      "outputs": []
    }
  ]
}